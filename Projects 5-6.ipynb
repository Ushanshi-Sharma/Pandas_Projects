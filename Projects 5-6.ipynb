{
 "cells": [
  {
   "cell_type": "code",
   "execution_count": 1,
   "id": "4077f71c-e5ba-48e2-80ab-c27b15b776af",
   "metadata": {},
   "outputs": [],
   "source": [
    "import pandas as pd\n",
    "import numpy as np\n",
    "import seaborn as sns\n",
    "import matplotlib.pyplot as plt"
   ]
  },
  {
   "cell_type": "markdown",
   "id": "f45f953b-6296-4449-a05b-da6a7dfee14e",
   "metadata": {},
   "source": [
    "# Project 5 GooglePlayStore"
   ]
  },
  {
   "cell_type": "code",
   "execution_count": 2,
   "id": "ba079f0f-02e2-4a03-90ee-e7b774eea741",
   "metadata": {},
   "outputs": [],
   "source": [
    "data = pd.read_csv(\"googleplaystore.csv\")"
   ]
  },
  {
   "cell_type": "code",
   "execution_count": 3,
   "id": "58bb57ac-975f-4378-9371-055b24e5d7b2",
   "metadata": {},
   "outputs": [
    {
     "data": {
      "text/html": [
       "<div>\n",
       "<style scoped>\n",
       "    .dataframe tbody tr th:only-of-type {\n",
       "        vertical-align: middle;\n",
       "    }\n",
       "\n",
       "    .dataframe tbody tr th {\n",
       "        vertical-align: top;\n",
       "    }\n",
       "\n",
       "    .dataframe thead th {\n",
       "        text-align: right;\n",
       "    }\n",
       "</style>\n",
       "<table border=\"1\" class=\"dataframe\">\n",
       "  <thead>\n",
       "    <tr style=\"text-align: right;\">\n",
       "      <th></th>\n",
       "      <th>App</th>\n",
       "      <th>Category</th>\n",
       "      <th>Rating</th>\n",
       "      <th>Reviews</th>\n",
       "      <th>Size</th>\n",
       "      <th>Installs</th>\n",
       "      <th>Type</th>\n",
       "      <th>Price</th>\n",
       "      <th>Content Rating</th>\n",
       "      <th>Genres</th>\n",
       "      <th>Last Updated</th>\n",
       "      <th>Current Ver</th>\n",
       "      <th>Android Ver</th>\n",
       "    </tr>\n",
       "  </thead>\n",
       "  <tbody>\n",
       "    <tr>\n",
       "      <th>0</th>\n",
       "      <td>Photo Editor &amp; Candy Camera &amp; Grid &amp; ScrapBook</td>\n",
       "      <td>ART_AND_DESIGN</td>\n",
       "      <td>4.1</td>\n",
       "      <td>159</td>\n",
       "      <td>19M</td>\n",
       "      <td>10,000+</td>\n",
       "      <td>Free</td>\n",
       "      <td>0</td>\n",
       "      <td>Everyone</td>\n",
       "      <td>Art &amp; Design</td>\n",
       "      <td>January 7, 2018</td>\n",
       "      <td>1.0.0</td>\n",
       "      <td>4.0.3 and up</td>\n",
       "    </tr>\n",
       "    <tr>\n",
       "      <th>1</th>\n",
       "      <td>Coloring book moana</td>\n",
       "      <td>ART_AND_DESIGN</td>\n",
       "      <td>3.9</td>\n",
       "      <td>967</td>\n",
       "      <td>14M</td>\n",
       "      <td>500,000+</td>\n",
       "      <td>Free</td>\n",
       "      <td>0</td>\n",
       "      <td>Everyone</td>\n",
       "      <td>Art &amp; Design;Pretend Play</td>\n",
       "      <td>January 15, 2018</td>\n",
       "      <td>2.0.0</td>\n",
       "      <td>4.0.3 and up</td>\n",
       "    </tr>\n",
       "    <tr>\n",
       "      <th>2</th>\n",
       "      <td>U Launcher Lite – FREE Live Cool Themes, Hide ...</td>\n",
       "      <td>ART_AND_DESIGN</td>\n",
       "      <td>4.7</td>\n",
       "      <td>87510</td>\n",
       "      <td>8.7M</td>\n",
       "      <td>5,000,000+</td>\n",
       "      <td>Free</td>\n",
       "      <td>0</td>\n",
       "      <td>Everyone</td>\n",
       "      <td>Art &amp; Design</td>\n",
       "      <td>August 1, 2018</td>\n",
       "      <td>1.2.4</td>\n",
       "      <td>4.0.3 and up</td>\n",
       "    </tr>\n",
       "    <tr>\n",
       "      <th>3</th>\n",
       "      <td>Sketch - Draw &amp; Paint</td>\n",
       "      <td>ART_AND_DESIGN</td>\n",
       "      <td>4.5</td>\n",
       "      <td>215644</td>\n",
       "      <td>25M</td>\n",
       "      <td>50,000,000+</td>\n",
       "      <td>Free</td>\n",
       "      <td>0</td>\n",
       "      <td>Teen</td>\n",
       "      <td>Art &amp; Design</td>\n",
       "      <td>June 8, 2018</td>\n",
       "      <td>Varies with device</td>\n",
       "      <td>4.2 and up</td>\n",
       "    </tr>\n",
       "    <tr>\n",
       "      <th>4</th>\n",
       "      <td>Pixel Draw - Number Art Coloring Book</td>\n",
       "      <td>ART_AND_DESIGN</td>\n",
       "      <td>4.3</td>\n",
       "      <td>967</td>\n",
       "      <td>2.8M</td>\n",
       "      <td>100,000+</td>\n",
       "      <td>Free</td>\n",
       "      <td>0</td>\n",
       "      <td>Everyone</td>\n",
       "      <td>Art &amp; Design;Creativity</td>\n",
       "      <td>June 20, 2018</td>\n",
       "      <td>1.1</td>\n",
       "      <td>4.4 and up</td>\n",
       "    </tr>\n",
       "  </tbody>\n",
       "</table>\n",
       "</div>"
      ],
      "text/plain": [
       "                                                 App        Category  Rating  \\\n",
       "0     Photo Editor & Candy Camera & Grid & ScrapBook  ART_AND_DESIGN     4.1   \n",
       "1                                Coloring book moana  ART_AND_DESIGN     3.9   \n",
       "2  U Launcher Lite – FREE Live Cool Themes, Hide ...  ART_AND_DESIGN     4.7   \n",
       "3                              Sketch - Draw & Paint  ART_AND_DESIGN     4.5   \n",
       "4              Pixel Draw - Number Art Coloring Book  ART_AND_DESIGN     4.3   \n",
       "\n",
       "  Reviews  Size     Installs  Type Price Content Rating  \\\n",
       "0     159   19M      10,000+  Free     0       Everyone   \n",
       "1     967   14M     500,000+  Free     0       Everyone   \n",
       "2   87510  8.7M   5,000,000+  Free     0       Everyone   \n",
       "3  215644   25M  50,000,000+  Free     0           Teen   \n",
       "4     967  2.8M     100,000+  Free     0       Everyone   \n",
       "\n",
       "                      Genres      Last Updated         Current Ver  \\\n",
       "0               Art & Design   January 7, 2018               1.0.0   \n",
       "1  Art & Design;Pretend Play  January 15, 2018               2.0.0   \n",
       "2               Art & Design    August 1, 2018               1.2.4   \n",
       "3               Art & Design      June 8, 2018  Varies with device   \n",
       "4    Art & Design;Creativity     June 20, 2018                 1.1   \n",
       "\n",
       "    Android Ver  \n",
       "0  4.0.3 and up  \n",
       "1  4.0.3 and up  \n",
       "2  4.0.3 and up  \n",
       "3    4.2 and up  \n",
       "4    4.4 and up  "
      ]
     },
     "execution_count": 3,
     "metadata": {},
     "output_type": "execute_result"
    }
   ],
   "source": [
    "data.head(5)"
   ]
  },
  {
   "cell_type": "code",
   "execution_count": 4,
   "id": "baf45c4d-056f-4f1a-873b-86bb4f3cd012",
   "metadata": {},
   "outputs": [
    {
     "data": {
      "text/html": [
       "<div>\n",
       "<style scoped>\n",
       "    .dataframe tbody tr th:only-of-type {\n",
       "        vertical-align: middle;\n",
       "    }\n",
       "\n",
       "    .dataframe tbody tr th {\n",
       "        vertical-align: top;\n",
       "    }\n",
       "\n",
       "    .dataframe thead th {\n",
       "        text-align: right;\n",
       "    }\n",
       "</style>\n",
       "<table border=\"1\" class=\"dataframe\">\n",
       "  <thead>\n",
       "    <tr style=\"text-align: right;\">\n",
       "      <th></th>\n",
       "      <th>App</th>\n",
       "      <th>Category</th>\n",
       "      <th>Rating</th>\n",
       "      <th>Reviews</th>\n",
       "      <th>Size</th>\n",
       "      <th>Installs</th>\n",
       "      <th>Type</th>\n",
       "      <th>Price</th>\n",
       "      <th>Content Rating</th>\n",
       "      <th>Genres</th>\n",
       "      <th>Last Updated</th>\n",
       "      <th>Current Ver</th>\n",
       "      <th>Android Ver</th>\n",
       "    </tr>\n",
       "  </thead>\n",
       "  <tbody>\n",
       "    <tr>\n",
       "      <th>10838</th>\n",
       "      <td>Parkinson Exercices FR</td>\n",
       "      <td>MEDICAL</td>\n",
       "      <td>NaN</td>\n",
       "      <td>3</td>\n",
       "      <td>9.5M</td>\n",
       "      <td>1,000+</td>\n",
       "      <td>Free</td>\n",
       "      <td>0</td>\n",
       "      <td>Everyone</td>\n",
       "      <td>Medical</td>\n",
       "      <td>January 20, 2017</td>\n",
       "      <td>1.0</td>\n",
       "      <td>2.2 and up</td>\n",
       "    </tr>\n",
       "    <tr>\n",
       "      <th>10839</th>\n",
       "      <td>The SCP Foundation DB fr nn5n</td>\n",
       "      <td>BOOKS_AND_REFERENCE</td>\n",
       "      <td>4.5</td>\n",
       "      <td>114</td>\n",
       "      <td>Varies with device</td>\n",
       "      <td>1,000+</td>\n",
       "      <td>Free</td>\n",
       "      <td>0</td>\n",
       "      <td>Mature 17+</td>\n",
       "      <td>Books &amp; Reference</td>\n",
       "      <td>January 19, 2015</td>\n",
       "      <td>Varies with device</td>\n",
       "      <td>Varies with device</td>\n",
       "    </tr>\n",
       "    <tr>\n",
       "      <th>10840</th>\n",
       "      <td>iHoroscope - 2018 Daily Horoscope &amp; Astrology</td>\n",
       "      <td>LIFESTYLE</td>\n",
       "      <td>4.5</td>\n",
       "      <td>398307</td>\n",
       "      <td>19M</td>\n",
       "      <td>10,000,000+</td>\n",
       "      <td>Free</td>\n",
       "      <td>0</td>\n",
       "      <td>Everyone</td>\n",
       "      <td>Lifestyle</td>\n",
       "      <td>July 25, 2018</td>\n",
       "      <td>Varies with device</td>\n",
       "      <td>Varies with device</td>\n",
       "    </tr>\n",
       "  </tbody>\n",
       "</table>\n",
       "</div>"
      ],
      "text/plain": [
       "                                                 App             Category  \\\n",
       "10838                         Parkinson Exercices FR              MEDICAL   \n",
       "10839                  The SCP Foundation DB fr nn5n  BOOKS_AND_REFERENCE   \n",
       "10840  iHoroscope - 2018 Daily Horoscope & Astrology            LIFESTYLE   \n",
       "\n",
       "       Rating Reviews                Size     Installs  Type Price  \\\n",
       "10838     NaN       3                9.5M       1,000+  Free     0   \n",
       "10839     4.5     114  Varies with device       1,000+  Free     0   \n",
       "10840     4.5  398307                 19M  10,000,000+  Free     0   \n",
       "\n",
       "      Content Rating             Genres      Last Updated         Current Ver  \\\n",
       "10838       Everyone            Medical  January 20, 2017                 1.0   \n",
       "10839     Mature 17+  Books & Reference  January 19, 2015  Varies with device   \n",
       "10840       Everyone          Lifestyle     July 25, 2018  Varies with device   \n",
       "\n",
       "              Android Ver  \n",
       "10838          2.2 and up  \n",
       "10839  Varies with device  \n",
       "10840  Varies with device  "
      ]
     },
     "execution_count": 4,
     "metadata": {},
     "output_type": "execute_result"
    }
   ],
   "source": [
    "data.tail(3)"
   ]
  },
  {
   "cell_type": "code",
   "execution_count": 5,
   "id": "fb83dd9d-fb82-473d-b67e-4593158f2c89",
   "metadata": {},
   "outputs": [
    {
     "data": {
      "text/plain": [
       "(10841, 13)"
      ]
     },
     "execution_count": 5,
     "metadata": {},
     "output_type": "execute_result"
    }
   ],
   "source": [
    "data.shape"
   ]
  },
  {
   "cell_type": "code",
   "execution_count": 6,
   "id": "9c3fad6b-784d-4b34-a257-b4707f50b356",
   "metadata": {},
   "outputs": [
    {
     "data": {
      "text/html": [
       "<div>\n",
       "<style scoped>\n",
       "    .dataframe tbody tr th:only-of-type {\n",
       "        vertical-align: middle;\n",
       "    }\n",
       "\n",
       "    .dataframe tbody tr th {\n",
       "        vertical-align: top;\n",
       "    }\n",
       "\n",
       "    .dataframe thead th {\n",
       "        text-align: right;\n",
       "    }\n",
       "</style>\n",
       "<table border=\"1\" class=\"dataframe\">\n",
       "  <thead>\n",
       "    <tr style=\"text-align: right;\">\n",
       "      <th></th>\n",
       "      <th>App</th>\n",
       "      <th>Category</th>\n",
       "      <th>Rating</th>\n",
       "      <th>Reviews</th>\n",
       "      <th>Size</th>\n",
       "      <th>Installs</th>\n",
       "      <th>Type</th>\n",
       "      <th>Price</th>\n",
       "      <th>Content Rating</th>\n",
       "      <th>Genres</th>\n",
       "      <th>Last Updated</th>\n",
       "      <th>Current Ver</th>\n",
       "      <th>Android Ver</th>\n",
       "    </tr>\n",
       "  </thead>\n",
       "  <tbody>\n",
       "    <tr>\n",
       "      <th>count</th>\n",
       "      <td>10841</td>\n",
       "      <td>10841</td>\n",
       "      <td>9367.000000</td>\n",
       "      <td>10841</td>\n",
       "      <td>10841</td>\n",
       "      <td>10841</td>\n",
       "      <td>10840</td>\n",
       "      <td>10841</td>\n",
       "      <td>10840</td>\n",
       "      <td>10841</td>\n",
       "      <td>10841</td>\n",
       "      <td>10833</td>\n",
       "      <td>10838</td>\n",
       "    </tr>\n",
       "    <tr>\n",
       "      <th>unique</th>\n",
       "      <td>9660</td>\n",
       "      <td>34</td>\n",
       "      <td>NaN</td>\n",
       "      <td>6002</td>\n",
       "      <td>462</td>\n",
       "      <td>22</td>\n",
       "      <td>3</td>\n",
       "      <td>93</td>\n",
       "      <td>6</td>\n",
       "      <td>120</td>\n",
       "      <td>1378</td>\n",
       "      <td>2832</td>\n",
       "      <td>33</td>\n",
       "    </tr>\n",
       "    <tr>\n",
       "      <th>top</th>\n",
       "      <td>ROBLOX</td>\n",
       "      <td>FAMILY</td>\n",
       "      <td>NaN</td>\n",
       "      <td>0</td>\n",
       "      <td>Varies with device</td>\n",
       "      <td>1,000,000+</td>\n",
       "      <td>Free</td>\n",
       "      <td>0</td>\n",
       "      <td>Everyone</td>\n",
       "      <td>Tools</td>\n",
       "      <td>August 3, 2018</td>\n",
       "      <td>Varies with device</td>\n",
       "      <td>4.1 and up</td>\n",
       "    </tr>\n",
       "    <tr>\n",
       "      <th>freq</th>\n",
       "      <td>9</td>\n",
       "      <td>1972</td>\n",
       "      <td>NaN</td>\n",
       "      <td>596</td>\n",
       "      <td>1695</td>\n",
       "      <td>1579</td>\n",
       "      <td>10039</td>\n",
       "      <td>10040</td>\n",
       "      <td>8714</td>\n",
       "      <td>842</td>\n",
       "      <td>326</td>\n",
       "      <td>1459</td>\n",
       "      <td>2451</td>\n",
       "    </tr>\n",
       "    <tr>\n",
       "      <th>mean</th>\n",
       "      <td>NaN</td>\n",
       "      <td>NaN</td>\n",
       "      <td>4.193338</td>\n",
       "      <td>NaN</td>\n",
       "      <td>NaN</td>\n",
       "      <td>NaN</td>\n",
       "      <td>NaN</td>\n",
       "      <td>NaN</td>\n",
       "      <td>NaN</td>\n",
       "      <td>NaN</td>\n",
       "      <td>NaN</td>\n",
       "      <td>NaN</td>\n",
       "      <td>NaN</td>\n",
       "    </tr>\n",
       "    <tr>\n",
       "      <th>std</th>\n",
       "      <td>NaN</td>\n",
       "      <td>NaN</td>\n",
       "      <td>0.537431</td>\n",
       "      <td>NaN</td>\n",
       "      <td>NaN</td>\n",
       "      <td>NaN</td>\n",
       "      <td>NaN</td>\n",
       "      <td>NaN</td>\n",
       "      <td>NaN</td>\n",
       "      <td>NaN</td>\n",
       "      <td>NaN</td>\n",
       "      <td>NaN</td>\n",
       "      <td>NaN</td>\n",
       "    </tr>\n",
       "    <tr>\n",
       "      <th>min</th>\n",
       "      <td>NaN</td>\n",
       "      <td>NaN</td>\n",
       "      <td>1.000000</td>\n",
       "      <td>NaN</td>\n",
       "      <td>NaN</td>\n",
       "      <td>NaN</td>\n",
       "      <td>NaN</td>\n",
       "      <td>NaN</td>\n",
       "      <td>NaN</td>\n",
       "      <td>NaN</td>\n",
       "      <td>NaN</td>\n",
       "      <td>NaN</td>\n",
       "      <td>NaN</td>\n",
       "    </tr>\n",
       "    <tr>\n",
       "      <th>25%</th>\n",
       "      <td>NaN</td>\n",
       "      <td>NaN</td>\n",
       "      <td>4.000000</td>\n",
       "      <td>NaN</td>\n",
       "      <td>NaN</td>\n",
       "      <td>NaN</td>\n",
       "      <td>NaN</td>\n",
       "      <td>NaN</td>\n",
       "      <td>NaN</td>\n",
       "      <td>NaN</td>\n",
       "      <td>NaN</td>\n",
       "      <td>NaN</td>\n",
       "      <td>NaN</td>\n",
       "    </tr>\n",
       "    <tr>\n",
       "      <th>50%</th>\n",
       "      <td>NaN</td>\n",
       "      <td>NaN</td>\n",
       "      <td>4.300000</td>\n",
       "      <td>NaN</td>\n",
       "      <td>NaN</td>\n",
       "      <td>NaN</td>\n",
       "      <td>NaN</td>\n",
       "      <td>NaN</td>\n",
       "      <td>NaN</td>\n",
       "      <td>NaN</td>\n",
       "      <td>NaN</td>\n",
       "      <td>NaN</td>\n",
       "      <td>NaN</td>\n",
       "    </tr>\n",
       "    <tr>\n",
       "      <th>75%</th>\n",
       "      <td>NaN</td>\n",
       "      <td>NaN</td>\n",
       "      <td>4.500000</td>\n",
       "      <td>NaN</td>\n",
       "      <td>NaN</td>\n",
       "      <td>NaN</td>\n",
       "      <td>NaN</td>\n",
       "      <td>NaN</td>\n",
       "      <td>NaN</td>\n",
       "      <td>NaN</td>\n",
       "      <td>NaN</td>\n",
       "      <td>NaN</td>\n",
       "      <td>NaN</td>\n",
       "    </tr>\n",
       "    <tr>\n",
       "      <th>max</th>\n",
       "      <td>NaN</td>\n",
       "      <td>NaN</td>\n",
       "      <td>19.000000</td>\n",
       "      <td>NaN</td>\n",
       "      <td>NaN</td>\n",
       "      <td>NaN</td>\n",
       "      <td>NaN</td>\n",
       "      <td>NaN</td>\n",
       "      <td>NaN</td>\n",
       "      <td>NaN</td>\n",
       "      <td>NaN</td>\n",
       "      <td>NaN</td>\n",
       "      <td>NaN</td>\n",
       "    </tr>\n",
       "  </tbody>\n",
       "</table>\n",
       "</div>"
      ],
      "text/plain": [
       "           App Category       Rating Reviews                Size    Installs  \\\n",
       "count    10841    10841  9367.000000   10841               10841       10841   \n",
       "unique    9660       34          NaN    6002                 462          22   \n",
       "top     ROBLOX   FAMILY          NaN       0  Varies with device  1,000,000+   \n",
       "freq         9     1972          NaN     596                1695        1579   \n",
       "mean       NaN      NaN     4.193338     NaN                 NaN         NaN   \n",
       "std        NaN      NaN     0.537431     NaN                 NaN         NaN   \n",
       "min        NaN      NaN     1.000000     NaN                 NaN         NaN   \n",
       "25%        NaN      NaN     4.000000     NaN                 NaN         NaN   \n",
       "50%        NaN      NaN     4.300000     NaN                 NaN         NaN   \n",
       "75%        NaN      NaN     4.500000     NaN                 NaN         NaN   \n",
       "max        NaN      NaN    19.000000     NaN                 NaN         NaN   \n",
       "\n",
       "         Type  Price Content Rating Genres    Last Updated  \\\n",
       "count   10840  10841          10840  10841           10841   \n",
       "unique      3     93              6    120            1378   \n",
       "top      Free      0       Everyone  Tools  August 3, 2018   \n",
       "freq    10039  10040           8714    842             326   \n",
       "mean      NaN    NaN            NaN    NaN             NaN   \n",
       "std       NaN    NaN            NaN    NaN             NaN   \n",
       "min       NaN    NaN            NaN    NaN             NaN   \n",
       "25%       NaN    NaN            NaN    NaN             NaN   \n",
       "50%       NaN    NaN            NaN    NaN             NaN   \n",
       "75%       NaN    NaN            NaN    NaN             NaN   \n",
       "max       NaN    NaN            NaN    NaN             NaN   \n",
       "\n",
       "               Current Ver Android Ver  \n",
       "count                10833       10838  \n",
       "unique                2832          33  \n",
       "top     Varies with device  4.1 and up  \n",
       "freq                  1459        2451  \n",
       "mean                   NaN         NaN  \n",
       "std                    NaN         NaN  \n",
       "min                    NaN         NaN  \n",
       "25%                    NaN         NaN  \n",
       "50%                    NaN         NaN  \n",
       "75%                    NaN         NaN  \n",
       "max                    NaN         NaN  "
      ]
     },
     "execution_count": 6,
     "metadata": {},
     "output_type": "execute_result"
    }
   ],
   "source": [
    "data.describe(include = \"all\")"
   ]
  },
  {
   "cell_type": "code",
   "execution_count": 7,
   "id": "34f0bb3e-bb2e-43f2-9261-a9e349bd5fc3",
   "metadata": {},
   "outputs": [
    {
     "name": "stdout",
     "output_type": "stream",
     "text": [
      "<class 'pandas.core.frame.DataFrame'>\n",
      "RangeIndex: 10841 entries, 0 to 10840\n",
      "Data columns (total 13 columns):\n",
      " #   Column          Non-Null Count  Dtype  \n",
      "---  ------          --------------  -----  \n",
      " 0   App             10841 non-null  object \n",
      " 1   Category        10841 non-null  object \n",
      " 2   Rating          9367 non-null   float64\n",
      " 3   Reviews         10841 non-null  object \n",
      " 4   Size            10841 non-null  object \n",
      " 5   Installs        10841 non-null  object \n",
      " 6   Type            10840 non-null  object \n",
      " 7   Price           10841 non-null  object \n",
      " 8   Content Rating  10840 non-null  object \n",
      " 9   Genres          10841 non-null  object \n",
      " 10  Last Updated    10841 non-null  object \n",
      " 11  Current Ver     10833 non-null  object \n",
      " 12  Android Ver     10838 non-null  object \n",
      "dtypes: float64(1), object(12)\n",
      "memory usage: 1.1+ MB\n"
     ]
    }
   ],
   "source": [
    "data.info()"
   ]
  },
  {
   "cell_type": "code",
   "execution_count": 8,
   "id": "fef7a78a-b489-4b72-a8a3-9f47e1613539",
   "metadata": {},
   "outputs": [
    {
     "data": {
      "text/plain": [
       "Index(['App', 'Category', 'Rating', 'Reviews', 'Size', 'Installs', 'Type',\n",
       "       'Price', 'Content Rating', 'Genres', 'Last Updated', 'Current Ver',\n",
       "       'Android Ver'],\n",
       "      dtype='object')"
      ]
     },
     "execution_count": 8,
     "metadata": {},
     "output_type": "execute_result"
    }
   ],
   "source": [
    "data.columns"
   ]
  },
  {
   "cell_type": "code",
   "execution_count": 9,
   "id": "c1e8023f-edb6-4d7a-8f00-f3979b308e94",
   "metadata": {},
   "outputs": [
    {
     "data": {
      "text/plain": [
       "3"
      ]
     },
     "execution_count": 9,
     "metadata": {},
     "output_type": "execute_result"
    }
   ],
   "source": [
    "data[\"App\"].str.contains(\"Astrology\", case=False).sum()"
   ]
  },
  {
   "cell_type": "code",
   "execution_count": 10,
   "id": "28e48d8b-69c2-45eb-88f0-b51f4c3f93ad",
   "metadata": {},
   "outputs": [
    {
     "data": {
      "text/plain": [
       "4.193338315362443"
      ]
     },
     "execution_count": 10,
     "metadata": {},
     "output_type": "execute_result"
    }
   ],
   "source": [
    "data[\"Rating\"].mean()"
   ]
  },
  {
   "cell_type": "code",
   "execution_count": 11,
   "id": "26014bad-8451-43c9-9060-093477490d25",
   "metadata": {},
   "outputs": [
    {
     "data": {
      "text/plain": [
       "34"
      ]
     },
     "execution_count": 11,
     "metadata": {},
     "output_type": "execute_result"
    }
   ],
   "source": [
    "data[\"Category\"].nunique()"
   ]
  },
  {
   "cell_type": "code",
   "execution_count": 12,
   "id": "370b3fa1-67e6-418c-bddc-7797fdcd16e6",
   "metadata": {},
   "outputs": [
    {
     "data": {
      "text/plain": [
       "Category\n",
       "1.9                    19.000000\n",
       "EVENTS                  4.435556\n",
       "EDUCATION               4.389032\n",
       "ART_AND_DESIGN          4.358065\n",
       "BOOKS_AND_REFERENCE     4.346067\n",
       "Name: Rating, dtype: float64"
      ]
     },
     "execution_count": 12,
     "metadata": {},
     "output_type": "execute_result"
    }
   ],
   "source": [
    "data.groupby(\"Category\")[\"Rating\"].mean().sort_values(ascending= False).head()"
   ]
  },
  {
   "cell_type": "code",
   "execution_count": 13,
   "id": "3bfec1a4-798c-480f-9202-d82c6809d52e",
   "metadata": {},
   "outputs": [
    {
     "data": {
      "text/plain": [
       "Index(['App', 'Category', 'Rating', 'Reviews', 'Size', 'Installs', 'Type',\n",
       "       'Price', 'Content Rating', 'Genres', 'Last Updated', 'Current Ver',\n",
       "       'Android Ver'],\n",
       "      dtype='object')"
      ]
     },
     "execution_count": 13,
     "metadata": {},
     "output_type": "execute_result"
    }
   ],
   "source": [
    "data.columns"
   ]
  },
  {
   "cell_type": "code",
   "execution_count": 14,
   "id": "a539295c-2fb9-4263-848d-ca39776f5fec",
   "metadata": {},
   "outputs": [
    {
     "data": {
      "text/plain": [
       "App               274\n",
       "Category          274\n",
       "Rating            274\n",
       "Reviews           274\n",
       "Size              274\n",
       "Installs          274\n",
       "Type              274\n",
       "Price             274\n",
       "Content Rating    274\n",
       "Genres            274\n",
       "Last Updated      274\n",
       "Current Ver       274\n",
       "Android Ver       274\n",
       "dtype: int64"
      ]
     },
     "execution_count": 14,
     "metadata": {},
     "output_type": "execute_result"
    }
   ],
   "source": [
    "data[data[\"Rating\"]== 5.0].count()"
   ]
  },
  {
   "cell_type": "code",
   "execution_count": 15,
   "id": "3cc412e0-f39a-42a5-8697-f36dfe4eca4e",
   "metadata": {},
   "outputs": [
    {
     "data": {
      "text/html": [
       "<div>\n",
       "<style scoped>\n",
       "    .dataframe tbody tr th:only-of-type {\n",
       "        vertical-align: middle;\n",
       "    }\n",
       "\n",
       "    .dataframe tbody tr th {\n",
       "        vertical-align: top;\n",
       "    }\n",
       "\n",
       "    .dataframe thead th {\n",
       "        text-align: right;\n",
       "    }\n",
       "</style>\n",
       "<table border=\"1\" class=\"dataframe\">\n",
       "  <thead>\n",
       "    <tr style=\"text-align: right;\">\n",
       "      <th></th>\n",
       "      <th>App</th>\n",
       "      <th>Category</th>\n",
       "      <th>Rating</th>\n",
       "      <th>Reviews</th>\n",
       "      <th>Size</th>\n",
       "      <th>Installs</th>\n",
       "      <th>Type</th>\n",
       "      <th>Price</th>\n",
       "      <th>Content Rating</th>\n",
       "      <th>Genres</th>\n",
       "      <th>Last Updated</th>\n",
       "      <th>Current Ver</th>\n",
       "      <th>Android Ver</th>\n",
       "    </tr>\n",
       "  </thead>\n",
       "  <tbody>\n",
       "    <tr>\n",
       "      <th>10472</th>\n",
       "      <td>Life Made WI-Fi Touchscreen Photo Frame</td>\n",
       "      <td>1.9</td>\n",
       "      <td>19.0</td>\n",
       "      <td>3.0M</td>\n",
       "      <td>1,000+</td>\n",
       "      <td>Free</td>\n",
       "      <td>0</td>\n",
       "      <td>Everyone</td>\n",
       "      <td>NaN</td>\n",
       "      <td>February 11, 2018</td>\n",
       "      <td>1.0.19</td>\n",
       "      <td>4.0 and up</td>\n",
       "      <td>NaN</td>\n",
       "    </tr>\n",
       "  </tbody>\n",
       "</table>\n",
       "</div>"
      ],
      "text/plain": [
       "                                           App Category  Rating Reviews  \\\n",
       "10472  Life Made WI-Fi Touchscreen Photo Frame      1.9    19.0    3.0M   \n",
       "\n",
       "         Size Installs Type     Price Content Rating             Genres  \\\n",
       "10472  1,000+     Free    0  Everyone            NaN  February 11, 2018   \n",
       "\n",
       "      Last Updated Current Ver Android Ver  \n",
       "10472       1.0.19  4.0 and up         NaN  "
      ]
     },
     "execution_count": 15,
     "metadata": {},
     "output_type": "execute_result"
    }
   ],
   "source": [
    "data[data[\"Reviews\"] == \"3.0M\"]"
   ]
  },
  {
   "cell_type": "code",
   "execution_count": 16,
   "id": "631d8c88-b5df-487f-9935-d8ab0550c588",
   "metadata": {},
   "outputs": [],
   "source": [
    "data[\"Reviews\"].replace(\"3.0M\", 3.0, inplace=True)"
   ]
  },
  {
   "cell_type": "code",
   "execution_count": 17,
   "id": "2ea3a376-1914-491b-b82c-e7e6007d138e",
   "metadata": {},
   "outputs": [],
   "source": [
    "data[\"Reviews\"] = data[\"Reviews\"].astype(\"float\")"
   ]
  },
  {
   "cell_type": "code",
   "execution_count": 18,
   "id": "1eb82ecf-ab18-48b3-9e96-c7ab433df5a2",
   "metadata": {},
   "outputs": [
    {
     "data": {
      "text/plain": [
       "444111.9265750392"
      ]
     },
     "execution_count": 18,
     "metadata": {},
     "output_type": "execute_result"
    }
   ],
   "source": [
    "data[\"Reviews\"].mean()"
   ]
  },
  {
   "cell_type": "code",
   "execution_count": 19,
   "id": "f4c48198-9659-45d8-90e6-0f198c95dfab",
   "metadata": {},
   "outputs": [
    {
     "data": {
      "text/plain": [
       "Index(['App', 'Category', 'Rating', 'Reviews', 'Size', 'Installs', 'Type',\n",
       "       'Price', 'Content Rating', 'Genres', 'Last Updated', 'Current Ver',\n",
       "       'Android Ver'],\n",
       "      dtype='object')"
      ]
     },
     "execution_count": 19,
     "metadata": {},
     "output_type": "execute_result"
    }
   ],
   "source": [
    "data.columns"
   ]
  },
  {
   "cell_type": "code",
   "execution_count": 20,
   "id": "40612450-51e2-4d06-8997-8a5cb7d0fe7d",
   "metadata": {},
   "outputs": [
    {
     "data": {
      "text/plain": [
       "Type\n",
       "Free    10039\n",
       "Paid      800\n",
       "0           1\n",
       "Name: count, dtype: int64"
      ]
     },
     "execution_count": 20,
     "metadata": {},
     "output_type": "execute_result"
    }
   ],
   "source": [
    "data.Type.value_counts()"
   ]
  },
  {
   "cell_type": "code",
   "execution_count": 21,
   "id": "8269ad91-842e-4d04-9d16-5e1c6b5787c3",
   "metadata": {},
   "outputs": [
    {
     "data": {
      "text/plain": [
       "2544    Facebook\n",
       "Name: App, dtype: object"
      ]
     },
     "execution_count": 21,
     "metadata": {},
     "output_type": "execute_result"
    }
   ],
   "source": [
    "data[data[\"Reviews\"].max()== data[\"Reviews\"]][\"App\"]"
   ]
  },
  {
   "cell_type": "code",
   "execution_count": 22,
   "id": "b1dff3ed-dbc8-401d-a92b-99964db687ea",
   "metadata": {},
   "outputs": [],
   "source": [
    "index = data[\"Reviews\"].sort_values(ascending=False).head(5).index"
   ]
  },
  {
   "cell_type": "code",
   "execution_count": 23,
   "id": "01486cde-4316-4759-81b4-5717440b9fea",
   "metadata": {},
   "outputs": [
    {
     "data": {
      "text/plain": [
       "2544              Facebook\n",
       "3943              Facebook\n",
       "381     WhatsApp Messenger\n",
       "336     WhatsApp Messenger\n",
       "3904    WhatsApp Messenger\n",
       "Name: App, dtype: object"
      ]
     },
     "execution_count": 23,
     "metadata": {},
     "output_type": "execute_result"
    }
   ],
   "source": [
    "data.iloc[index][\"App\"]"
   ]
  },
  {
   "cell_type": "code",
   "execution_count": 24,
   "id": "25028363-0034-4a10-8973-2615de0b71f9",
   "metadata": {},
   "outputs": [
    {
     "data": {
      "text/plain": [
       "Type\n",
       "0       19.000000\n",
       "Free     4.186203\n",
       "Paid     4.266615\n",
       "Name: Rating, dtype: float64"
      ]
     },
     "execution_count": 24,
     "metadata": {},
     "output_type": "execute_result"
    }
   ],
   "source": [
    "data.groupby(\"Type\")[\"Rating\"].mean()"
   ]
  },
  {
   "cell_type": "code",
   "execution_count": 25,
   "id": "f7697453-3734-4d0b-92a5-eec007114c24",
   "metadata": {},
   "outputs": [
    {
     "data": {
      "text/plain": [
       "Index(['App', 'Category', 'Rating', 'Reviews', 'Size', 'Installs', 'Type',\n",
       "       'Price', 'Content Rating', 'Genres', 'Last Updated', 'Current Ver',\n",
       "       'Android Ver'],\n",
       "      dtype='object')"
      ]
     },
     "execution_count": 25,
     "metadata": {},
     "output_type": "execute_result"
    }
   ],
   "source": [
    "data.columns"
   ]
  },
  {
   "cell_type": "code",
   "execution_count": 26,
   "id": "6be511ec-80b7-4cd2-87a1-96feb6ccca6d",
   "metadata": {},
   "outputs": [],
   "source": [
    "index = data.Installs.sort_values(ascending=False).head().index"
   ]
  },
  {
   "cell_type": "code",
   "execution_count": 27,
   "id": "779d17e0-479e-4efa-973a-f196e9023b8e",
   "metadata": {},
   "outputs": [
    {
     "data": {
      "text/plain": [
       "10472        Life Made WI-Fi Touchscreen Photo Frame\n",
       "420      UC Browser - Fast Download Private & Secure\n",
       "474                      LINE: Free Calls & Messages\n",
       "3767                    Flipboard: News For Our Time\n",
       "3574                                     Cloud Print\n",
       "Name: App, dtype: object"
      ]
     },
     "execution_count": 27,
     "metadata": {},
     "output_type": "execute_result"
    }
   ],
   "source": [
    "data.iloc[index][\"App\"]"
   ]
  },
  {
   "cell_type": "code",
   "execution_count": 28,
   "id": "490e07bb-f15c-49d6-a627-1f818187921f",
   "metadata": {},
   "outputs": [],
   "source": [
    "data[\"Installs_1\"]=data[\"Installs\"].str.replace(\",\", \"\")"
   ]
  },
  {
   "cell_type": "code",
   "execution_count": 29,
   "id": "a0fb3d68-07c1-427f-9b93-0573b45aeaa7",
   "metadata": {},
   "outputs": [],
   "source": [
    "data[\"Installs_1\"] = data[\"Installs_1\"].str.replace(\"+\", \"\")"
   ]
  },
  {
   "cell_type": "code",
   "execution_count": 30,
   "id": "e3fdb580-aee1-49f4-991d-79097997267c",
   "metadata": {},
   "outputs": [],
   "source": [
    "data[\"Installs_1\"] = data[\"Installs_1\"].replace(\"Free\", 0)"
   ]
  },
  {
   "cell_type": "code",
   "execution_count": 31,
   "id": "5e31f2d0-f116-452a-b1aa-573bbae715e0",
   "metadata": {},
   "outputs": [],
   "source": [
    "data[\"Installs_1\"] = data[\"Installs_1\"].astype(\"int\")"
   ]
  },
  {
   "cell_type": "code",
   "execution_count": 32,
   "id": "c64e4a28-b588-4584-9863-69ed143ea213",
   "metadata": {},
   "outputs": [],
   "source": [
    "index = data[\"Installs_1\"].sort_values(ascending = False).head().index"
   ]
  },
  {
   "cell_type": "code",
   "execution_count": 33,
   "id": "dd96a0f9-b243-421a-86ab-ded66e85ef1b",
   "metadata": {},
   "outputs": [
    {
     "data": {
      "text/plain": [
       "3896                              Subway Surfers\n",
       "3943                                    Facebook\n",
       "335     Messenger – Text and Video Chat for Free\n",
       "3523                                Google Drive\n",
       "3565                                Google Drive\n",
       "Name: App, dtype: object"
      ]
     },
     "execution_count": 33,
     "metadata": {},
     "output_type": "execute_result"
    }
   ],
   "source": [
    "data.iloc[index][\"App\"]"
   ]
  },
  {
   "cell_type": "markdown",
   "id": "507cc07a-8a11-4047-ad0a-416498a94a40",
   "metadata": {},
   "source": [
    "# Project - 6 Udemy Courses"
   ]
  },
  {
   "cell_type": "code",
   "execution_count": 34,
   "id": "3b86e3ed-efbc-4641-a1fa-4fe9e6bb43d8",
   "metadata": {},
   "outputs": [
    {
     "name": "stdout",
     "output_type": "stream",
     "text": [
      "<class 'pandas.core.frame.DataFrame'>\n",
      "RangeIndex: 3678 entries, 0 to 3677\n",
      "Data columns (total 12 columns):\n",
      " #   Column               Non-Null Count  Dtype              \n",
      "---  ------               --------------  -----              \n",
      " 0   course_id            3678 non-null   int64              \n",
      " 1   course_title         3678 non-null   object             \n",
      " 2   url                  3678 non-null   object             \n",
      " 3   is_paid              3678 non-null   bool               \n",
      " 4   price                3678 non-null   int64              \n",
      " 5   num_subscribers      3678 non-null   int64              \n",
      " 6   num_reviews          3678 non-null   int64              \n",
      " 7   num_lectures         3678 non-null   int64              \n",
      " 8   level                3678 non-null   object             \n",
      " 9   content_duration     3678 non-null   float64            \n",
      " 10  published_timestamp  3678 non-null   datetime64[ns, UTC]\n",
      " 11  subject              3678 non-null   object             \n",
      "dtypes: bool(1), datetime64[ns, UTC](1), float64(1), int64(5), object(4)\n",
      "memory usage: 319.8+ KB\n"
     ]
    }
   ],
   "source": [
    "df = pd.read_csv(\"udemy_courses.csv\", parse_dates = [\"published_timestamp\"])\n",
    "df.info()"
   ]
  },
  {
   "cell_type": "code",
   "execution_count": 35,
   "id": "67baea61-7f83-4480-a431-56062486e5a0",
   "metadata": {},
   "outputs": [
    {
     "data": {
      "text/html": [
       "<div>\n",
       "<style scoped>\n",
       "    .dataframe tbody tr th:only-of-type {\n",
       "        vertical-align: middle;\n",
       "    }\n",
       "\n",
       "    .dataframe tbody tr th {\n",
       "        vertical-align: top;\n",
       "    }\n",
       "\n",
       "    .dataframe thead th {\n",
       "        text-align: right;\n",
       "    }\n",
       "</style>\n",
       "<table border=\"1\" class=\"dataframe\">\n",
       "  <thead>\n",
       "    <tr style=\"text-align: right;\">\n",
       "      <th></th>\n",
       "      <th>course_id</th>\n",
       "      <th>course_title</th>\n",
       "      <th>url</th>\n",
       "      <th>is_paid</th>\n",
       "      <th>price</th>\n",
       "      <th>num_subscribers</th>\n",
       "      <th>num_reviews</th>\n",
       "      <th>num_lectures</th>\n",
       "      <th>level</th>\n",
       "      <th>content_duration</th>\n",
       "      <th>published_timestamp</th>\n",
       "      <th>subject</th>\n",
       "    </tr>\n",
       "  </thead>\n",
       "  <tbody>\n",
       "    <tr>\n",
       "      <th>0</th>\n",
       "      <td>1070968</td>\n",
       "      <td>Ultimate Investment Banking Course</td>\n",
       "      <td>https://www.udemy.com/ultimate-investment-bank...</td>\n",
       "      <td>True</td>\n",
       "      <td>200</td>\n",
       "      <td>2147</td>\n",
       "      <td>23</td>\n",
       "      <td>51</td>\n",
       "      <td>All Levels</td>\n",
       "      <td>1.5</td>\n",
       "      <td>2017-01-18 20:58:58+00:00</td>\n",
       "      <td>Business Finance</td>\n",
       "    </tr>\n",
       "    <tr>\n",
       "      <th>1</th>\n",
       "      <td>1113822</td>\n",
       "      <td>Complete GST Course &amp; Certification - Grow You...</td>\n",
       "      <td>https://www.udemy.com/goods-and-services-tax/</td>\n",
       "      <td>True</td>\n",
       "      <td>75</td>\n",
       "      <td>2792</td>\n",
       "      <td>923</td>\n",
       "      <td>274</td>\n",
       "      <td>All Levels</td>\n",
       "      <td>39.0</td>\n",
       "      <td>2017-03-09 16:34:20+00:00</td>\n",
       "      <td>Business Finance</td>\n",
       "    </tr>\n",
       "    <tr>\n",
       "      <th>2</th>\n",
       "      <td>1006314</td>\n",
       "      <td>Financial Modeling for Business Analysts and C...</td>\n",
       "      <td>https://www.udemy.com/financial-modeling-for-b...</td>\n",
       "      <td>True</td>\n",
       "      <td>45</td>\n",
       "      <td>2174</td>\n",
       "      <td>74</td>\n",
       "      <td>51</td>\n",
       "      <td>Intermediate Level</td>\n",
       "      <td>2.5</td>\n",
       "      <td>2016-12-19 19:26:30+00:00</td>\n",
       "      <td>Business Finance</td>\n",
       "    </tr>\n",
       "    <tr>\n",
       "      <th>3</th>\n",
       "      <td>1210588</td>\n",
       "      <td>Beginner to Pro - Financial Analysis in Excel ...</td>\n",
       "      <td>https://www.udemy.com/complete-excel-finance-c...</td>\n",
       "      <td>True</td>\n",
       "      <td>95</td>\n",
       "      <td>2451</td>\n",
       "      <td>11</td>\n",
       "      <td>36</td>\n",
       "      <td>All Levels</td>\n",
       "      <td>3.0</td>\n",
       "      <td>2017-05-30 20:07:24+00:00</td>\n",
       "      <td>Business Finance</td>\n",
       "    </tr>\n",
       "    <tr>\n",
       "      <th>4</th>\n",
       "      <td>1011058</td>\n",
       "      <td>How To Maximize Your Profits Trading Options</td>\n",
       "      <td>https://www.udemy.com/how-to-maximize-your-pro...</td>\n",
       "      <td>True</td>\n",
       "      <td>200</td>\n",
       "      <td>1276</td>\n",
       "      <td>45</td>\n",
       "      <td>26</td>\n",
       "      <td>Intermediate Level</td>\n",
       "      <td>2.0</td>\n",
       "      <td>2016-12-13 14:57:18+00:00</td>\n",
       "      <td>Business Finance</td>\n",
       "    </tr>\n",
       "  </tbody>\n",
       "</table>\n",
       "</div>"
      ],
      "text/plain": [
       "   course_id                                       course_title  \\\n",
       "0    1070968                 Ultimate Investment Banking Course   \n",
       "1    1113822  Complete GST Course & Certification - Grow You...   \n",
       "2    1006314  Financial Modeling for Business Analysts and C...   \n",
       "3    1210588  Beginner to Pro - Financial Analysis in Excel ...   \n",
       "4    1011058       How To Maximize Your Profits Trading Options   \n",
       "\n",
       "                                                 url  is_paid  price  \\\n",
       "0  https://www.udemy.com/ultimate-investment-bank...     True    200   \n",
       "1      https://www.udemy.com/goods-and-services-tax/     True     75   \n",
       "2  https://www.udemy.com/financial-modeling-for-b...     True     45   \n",
       "3  https://www.udemy.com/complete-excel-finance-c...     True     95   \n",
       "4  https://www.udemy.com/how-to-maximize-your-pro...     True    200   \n",
       "\n",
       "   num_subscribers  num_reviews  num_lectures               level  \\\n",
       "0             2147           23            51          All Levels   \n",
       "1             2792          923           274          All Levels   \n",
       "2             2174           74            51  Intermediate Level   \n",
       "3             2451           11            36          All Levels   \n",
       "4             1276           45            26  Intermediate Level   \n",
       "\n",
       "   content_duration       published_timestamp           subject  \n",
       "0               1.5 2017-01-18 20:58:58+00:00  Business Finance  \n",
       "1              39.0 2017-03-09 16:34:20+00:00  Business Finance  \n",
       "2               2.5 2016-12-19 19:26:30+00:00  Business Finance  \n",
       "3               3.0 2017-05-30 20:07:24+00:00  Business Finance  \n",
       "4               2.0 2016-12-13 14:57:18+00:00  Business Finance  "
      ]
     },
     "execution_count": 35,
     "metadata": {},
     "output_type": "execute_result"
    }
   ],
   "source": [
    "df.head()"
   ]
  },
  {
   "cell_type": "code",
   "execution_count": 36,
   "id": "bba1769a-6556-4a27-b3f3-7117b8c3822a",
   "metadata": {},
   "outputs": [
    {
     "data": {
      "text/html": [
       "<div>\n",
       "<style scoped>\n",
       "    .dataframe tbody tr th:only-of-type {\n",
       "        vertical-align: middle;\n",
       "    }\n",
       "\n",
       "    .dataframe tbody tr th {\n",
       "        vertical-align: top;\n",
       "    }\n",
       "\n",
       "    .dataframe thead th {\n",
       "        text-align: right;\n",
       "    }\n",
       "</style>\n",
       "<table border=\"1\" class=\"dataframe\">\n",
       "  <thead>\n",
       "    <tr style=\"text-align: right;\">\n",
       "      <th></th>\n",
       "      <th>course_id</th>\n",
       "      <th>course_title</th>\n",
       "      <th>url</th>\n",
       "      <th>is_paid</th>\n",
       "      <th>price</th>\n",
       "      <th>num_subscribers</th>\n",
       "      <th>num_reviews</th>\n",
       "      <th>num_lectures</th>\n",
       "      <th>level</th>\n",
       "      <th>content_duration</th>\n",
       "      <th>published_timestamp</th>\n",
       "      <th>subject</th>\n",
       "    </tr>\n",
       "  </thead>\n",
       "  <tbody>\n",
       "    <tr>\n",
       "      <th>3673</th>\n",
       "      <td>775618</td>\n",
       "      <td>Learn jQuery from Scratch - Master of JavaScri...</td>\n",
       "      <td>https://www.udemy.com/easy-jquery-for-beginner...</td>\n",
       "      <td>True</td>\n",
       "      <td>100</td>\n",
       "      <td>1040</td>\n",
       "      <td>14</td>\n",
       "      <td>21</td>\n",
       "      <td>All Levels</td>\n",
       "      <td>2.0</td>\n",
       "      <td>2016-06-14 17:36:46+00:00</td>\n",
       "      <td>Web Development</td>\n",
       "    </tr>\n",
       "    <tr>\n",
       "      <th>3674</th>\n",
       "      <td>1088178</td>\n",
       "      <td>How To Design A WordPress Website With No Codi...</td>\n",
       "      <td>https://www.udemy.com/how-to-make-a-wordpress-...</td>\n",
       "      <td>True</td>\n",
       "      <td>25</td>\n",
       "      <td>306</td>\n",
       "      <td>3</td>\n",
       "      <td>42</td>\n",
       "      <td>Beginner Level</td>\n",
       "      <td>3.5</td>\n",
       "      <td>2017-03-10 22:24:30+00:00</td>\n",
       "      <td>Web Development</td>\n",
       "    </tr>\n",
       "    <tr>\n",
       "      <th>3675</th>\n",
       "      <td>635248</td>\n",
       "      <td>Learn and Build using Polymer</td>\n",
       "      <td>https://www.udemy.com/learn-and-build-using-po...</td>\n",
       "      <td>True</td>\n",
       "      <td>40</td>\n",
       "      <td>513</td>\n",
       "      <td>169</td>\n",
       "      <td>48</td>\n",
       "      <td>All Levels</td>\n",
       "      <td>3.5</td>\n",
       "      <td>2015-12-30 16:41:42+00:00</td>\n",
       "      <td>Web Development</td>\n",
       "    </tr>\n",
       "    <tr>\n",
       "      <th>3676</th>\n",
       "      <td>905096</td>\n",
       "      <td>CSS Animations: Create Amazing Effects on Your...</td>\n",
       "      <td>https://www.udemy.com/css-animations-create-am...</td>\n",
       "      <td>True</td>\n",
       "      <td>50</td>\n",
       "      <td>300</td>\n",
       "      <td>31</td>\n",
       "      <td>38</td>\n",
       "      <td>All Levels</td>\n",
       "      <td>3.0</td>\n",
       "      <td>2016-08-11 19:06:15+00:00</td>\n",
       "      <td>Web Development</td>\n",
       "    </tr>\n",
       "    <tr>\n",
       "      <th>3677</th>\n",
       "      <td>297602</td>\n",
       "      <td>Using MODX CMS to Build Websites: A Beginner's...</td>\n",
       "      <td>https://www.udemy.com/using-modx-cms-to-build-...</td>\n",
       "      <td>True</td>\n",
       "      <td>45</td>\n",
       "      <td>901</td>\n",
       "      <td>36</td>\n",
       "      <td>20</td>\n",
       "      <td>Beginner Level</td>\n",
       "      <td>2.0</td>\n",
       "      <td>2014-09-28 19:51:11+00:00</td>\n",
       "      <td>Web Development</td>\n",
       "    </tr>\n",
       "  </tbody>\n",
       "</table>\n",
       "</div>"
      ],
      "text/plain": [
       "      course_id                                       course_title  \\\n",
       "3673     775618  Learn jQuery from Scratch - Master of JavaScri...   \n",
       "3674    1088178  How To Design A WordPress Website With No Codi...   \n",
       "3675     635248                      Learn and Build using Polymer   \n",
       "3676     905096  CSS Animations: Create Amazing Effects on Your...   \n",
       "3677     297602  Using MODX CMS to Build Websites: A Beginner's...   \n",
       "\n",
       "                                                    url  is_paid  price  \\\n",
       "3673  https://www.udemy.com/easy-jquery-for-beginner...     True    100   \n",
       "3674  https://www.udemy.com/how-to-make-a-wordpress-...     True     25   \n",
       "3675  https://www.udemy.com/learn-and-build-using-po...     True     40   \n",
       "3676  https://www.udemy.com/css-animations-create-am...     True     50   \n",
       "3677  https://www.udemy.com/using-modx-cms-to-build-...     True     45   \n",
       "\n",
       "      num_subscribers  num_reviews  num_lectures           level  \\\n",
       "3673             1040           14            21      All Levels   \n",
       "3674              306            3            42  Beginner Level   \n",
       "3675              513          169            48      All Levels   \n",
       "3676              300           31            38      All Levels   \n",
       "3677              901           36            20  Beginner Level   \n",
       "\n",
       "      content_duration       published_timestamp          subject  \n",
       "3673               2.0 2016-06-14 17:36:46+00:00  Web Development  \n",
       "3674               3.5 2017-03-10 22:24:30+00:00  Web Development  \n",
       "3675               3.5 2015-12-30 16:41:42+00:00  Web Development  \n",
       "3676               3.0 2016-08-11 19:06:15+00:00  Web Development  \n",
       "3677               2.0 2014-09-28 19:51:11+00:00  Web Development  "
      ]
     },
     "execution_count": 36,
     "metadata": {},
     "output_type": "execute_result"
    }
   ],
   "source": [
    "df.tail()"
   ]
  },
  {
   "cell_type": "code",
   "execution_count": 37,
   "id": "69db6699-4530-4d87-9a46-7e32e09ba1c8",
   "metadata": {},
   "outputs": [
    {
     "data": {
      "text/plain": [
       "(3678, 12)"
      ]
     },
     "execution_count": 37,
     "metadata": {},
     "output_type": "execute_result"
    }
   ],
   "source": [
    "df.shape"
   ]
  },
  {
   "cell_type": "code",
   "execution_count": 38,
   "id": "a2792e7b-b5ef-4b86-ae4a-7c49c2ebee00",
   "metadata": {},
   "outputs": [
    {
     "name": "stdout",
     "output_type": "stream",
     "text": [
      "<class 'pandas.core.frame.DataFrame'>\n",
      "RangeIndex: 3678 entries, 0 to 3677\n",
      "Data columns (total 12 columns):\n",
      " #   Column               Non-Null Count  Dtype              \n",
      "---  ------               --------------  -----              \n",
      " 0   course_id            3678 non-null   int64              \n",
      " 1   course_title         3678 non-null   object             \n",
      " 2   url                  3678 non-null   object             \n",
      " 3   is_paid              3678 non-null   bool               \n",
      " 4   price                3678 non-null   int64              \n",
      " 5   num_subscribers      3678 non-null   int64              \n",
      " 6   num_reviews          3678 non-null   int64              \n",
      " 7   num_lectures         3678 non-null   int64              \n",
      " 8   level                3678 non-null   object             \n",
      " 9   content_duration     3678 non-null   float64            \n",
      " 10  published_timestamp  3678 non-null   datetime64[ns, UTC]\n",
      " 11  subject              3678 non-null   object             \n",
      "dtypes: bool(1), datetime64[ns, UTC](1), float64(1), int64(5), object(4)\n",
      "memory usage: 319.8+ KB\n"
     ]
    }
   ],
   "source": [
    "df.info()"
   ]
  },
  {
   "cell_type": "code",
   "execution_count": 39,
   "id": "5c371111-d5ad-4ae4-9072-40192cbaf751",
   "metadata": {},
   "outputs": [
    {
     "data": {
      "text/plain": [
       "course_id              0\n",
       "course_title           0\n",
       "url                    0\n",
       "is_paid                0\n",
       "price                  0\n",
       "num_subscribers        0\n",
       "num_reviews            0\n",
       "num_lectures           0\n",
       "level                  0\n",
       "content_duration       0\n",
       "published_timestamp    0\n",
       "subject                0\n",
       "dtype: int64"
      ]
     },
     "execution_count": 39,
     "metadata": {},
     "output_type": "execute_result"
    }
   ],
   "source": [
    "df.isnull().sum()"
   ]
  },
  {
   "cell_type": "code",
   "execution_count": 40,
   "id": "8d0bdf26-7b83-413d-bb3b-5a0aa3aa6804",
   "metadata": {},
   "outputs": [
    {
     "data": {
      "text/plain": [
       "False"
      ]
     },
     "execution_count": 40,
     "metadata": {},
     "output_type": "execute_result"
    }
   ],
   "source": [
    "df.isnull().values.any()"
   ]
  },
  {
   "cell_type": "code",
   "execution_count": 41,
   "id": "499246bb-ce7c-434f-bea7-3d7f4ed3a1a6",
   "metadata": {},
   "outputs": [
    {
     "data": {
      "text/plain": [
       "<Axes: >"
      ]
     },
     "execution_count": 41,
     "metadata": {},
     "output_type": "execute_result"
    },
    {
     "data": {
      "image/png": "[encoded data removed]",
      "text/plain": [
       "<Figure size 640x480 with 2 Axes>"
      ]
     },
     "metadata": {},
     "output_type": "display_data"
    }
   ],
   "source": [
    "sns.heatmap(df.isnull())"
   ]
  },
  {
   "cell_type": "code",
   "execution_count": 42,
   "id": "6257e441-1b84-4da1-93c1-bc8acfa72c82",
   "metadata": {},
   "outputs": [
    {
     "data": {
      "text/plain": [
       "6"
      ]
     },
     "execution_count": 42,
     "metadata": {},
     "output_type": "execute_result"
    }
   ],
   "source": [
    "df.duplicated().sum()"
   ]
  },
  {
   "cell_type": "code",
   "execution_count": 43,
   "id": "ba83fc18-1d96-4b97-b97e-d72d35067e69",
   "metadata": {},
   "outputs": [],
   "source": [
    "df.drop_duplicates(inplace=True)"
   ]
  },
  {
   "cell_type": "code",
   "execution_count": 44,
   "id": "8014c8ac-2eb4-4116-9a05-9a035977f96f",
   "metadata": {},
   "outputs": [
    {
     "data": {
      "text/plain": [
       "0"
      ]
     },
     "execution_count": 44,
     "metadata": {},
     "output_type": "execute_result"
    }
   ],
   "source": [
    "df.duplicated().sum()"
   ]
  },
  {
   "cell_type": "code",
   "execution_count": 45,
   "id": "f3156ee0-c978-4139-82b7-bb0696335551",
   "metadata": {},
   "outputs": [
    {
     "data": {
      "text/plain": [
       "False"
      ]
     },
     "execution_count": 45,
     "metadata": {},
     "output_type": "execute_result"
    }
   ],
   "source": [
    "df.duplicated().any()"
   ]
  },
  {
   "cell_type": "code",
   "execution_count": 46,
   "id": "b0b6bdb3-3207-4b55-9f1c-40ca3f2e4db7",
   "metadata": {},
   "outputs": [
    {
     "data": {
      "text/plain": [
       "Index(['course_id', 'course_title', 'url', 'is_paid', 'price',\n",
       "       'num_subscribers', 'num_reviews', 'num_lectures', 'level',\n",
       "       'content_duration', 'published_timestamp', 'subject'],\n",
       "      dtype='object')"
      ]
     },
     "execution_count": 46,
     "metadata": {},
     "output_type": "execute_result"
    }
   ],
   "source": [
    "df.columns"
   ]
  },
  {
   "cell_type": "code",
   "execution_count": 47,
   "id": "94b71316-d69d-4b5d-b9d6-2594ff49dba5",
   "metadata": {},
   "outputs": [
    {
     "data": {
      "text/plain": [
       "subject\n",
       "Web Development        1199\n",
       "Business Finance       1191\n",
       "Musical Instruments     680\n",
       "Graphic Design          602\n",
       "Name: count, dtype: int64"
      ]
     },
     "execution_count": 47,
     "metadata": {},
     "output_type": "execute_result"
    }
   ],
   "source": [
    "df[\"subject\"].value_counts()"
   ]
  },
  {
   "cell_type": "code",
   "execution_count": 48,
   "id": "5259fdde-2adb-4030-8a05-50deb11f278b",
   "metadata": {},
   "outputs": [
    {
     "data": {
      "text/plain": [
       "Text(0, 0.5, 'No. of courses per subject')"
      ]
     },
     "execution_count": 48,
     "metadata": {},
     "output_type": "execute_result"
    },
    {
     "data": {
      "image/png": "[encoded data removed]",
      "text/plain": [
       "<Figure size 900x500 with 1 Axes>"
      ]
     },
     "metadata": {},
     "output_type": "display_data"
    }
   ],
   "source": [
    "plt.figure(figsize = (9,5))\n",
    "plt.xticks(rotation = 0)\n",
    "sns.countplot(data=df, x=\"subject\")\n",
    "plt.xlabel(\"Subjects\", fontsize=13)\n",
    "plt.ylabel(\"No. of courses per subject\", fontsize = 13)"
   ]
  },
  {
   "cell_type": "code",
   "execution_count": 49,
   "id": "411837c1-7b3d-41c3-b497-09318cb32c60",
   "metadata": {},
   "outputs": [
    {
     "data": {
      "text/plain": [
       "Index(['course_id', 'course_title', 'url', 'is_paid', 'price',\n",
       "       'num_subscribers', 'num_reviews', 'num_lectures', 'level',\n",
       "       'content_duration', 'published_timestamp', 'subject'],\n",
       "      dtype='object')"
      ]
     },
     "execution_count": 49,
     "metadata": {},
     "output_type": "execute_result"
    }
   ],
   "source": [
    "df.columns"
   ]
  },
  {
   "cell_type": "code",
   "execution_count": 50,
   "id": "1c0cfa1e-bd53-47ec-9e49-7762e41d380b",
   "metadata": {},
   "outputs": [
    {
     "data": {
      "text/plain": [
       "level\n",
       "All Levels            1925\n",
       "Beginner Level        1268\n",
       "Intermediate Level     421\n",
       "Expert Level            58\n",
       "Name: count, dtype: int64"
      ]
     },
     "execution_count": 50,
     "metadata": {},
     "output_type": "execute_result"
    }
   ],
   "source": [
    "df.level.value_counts()"
   ]
  },
  {
   "cell_type": "code",
   "execution_count": 51,
   "id": "4d18e15c-4914-4a38-985b-528889ec5d6d",
   "metadata": {},
   "outputs": [
    {
     "data": {
      "text/plain": [
       "Text(0.5, 0, 'Levels')"
      ]
     },
     "execution_count": 51,
     "metadata": {},
     "output_type": "execute_result"
    },
    {
     "data": {
      "image/png": "[encoded data removed]",
      "text/plain": [
       "<Figure size 1000x400 with 1 Axes>"
      ]
     },
     "metadata": {},
     "output_type": "display_data"
    }
   ],
   "source": [
    "plt.figure(figsize=(10,4))\n",
    "sns.countplot(data=df, x=\"level\")\n",
    "plt.xlabel(\"Levels\")"
   ]
  },
  {
   "cell_type": "code",
   "execution_count": 52,
   "id": "c0c8eedf-4eff-4ffa-ba19-52c331761c45",
   "metadata": {},
   "outputs": [
    {
     "data": {
      "text/plain": [
       "is_paid\n",
       "True     3362\n",
       "False     310\n",
       "Name: count, dtype: int64"
      ]
     },
     "execution_count": 52,
     "metadata": {},
     "output_type": "execute_result"
    }
   ],
   "source": [
    "df.is_paid.value_counts()"
   ]
  },
  {
   "cell_type": "code",
   "execution_count": 53,
   "id": "04546e76-9318-4a5f-87ac-2961f63694e3",
   "metadata": {},
   "outputs": [
    {
     "data": {
      "text/plain": [
       "<Axes: xlabel='is_paid', ylabel='count'>"
      ]
     },
     "execution_count": 53,
     "metadata": {},
     "output_type": "execute_result"
    },
    {
     "data": {
      "image/png": "[encoded data removed]",
      "text/plain": [
       "<Figure size 640x480 with 1 Axes>"
      ]
     },
     "metadata": {},
     "output_type": "display_data"
    }
   ],
   "source": [
    "sns.countplot(data=df, x=\"is_paid\")"
   ]
  },
  {
   "cell_type": "code",
   "execution_count": 54,
   "id": "8e9f2004-4017-41c4-82a4-c3ccaf3f1116",
   "metadata": {},
   "outputs": [
    {
     "data": {
      "text/plain": [
       "is_paid\n",
       "False    21.416129\n",
       "True     41.866746\n",
       "Name: num_lectures, dtype: float64"
      ]
     },
     "execution_count": 54,
     "metadata": {},
     "output_type": "execute_result"
    }
   ],
   "source": [
    "df.groupby(\"is_paid\")[\"num_lectures\"].mean()"
   ]
  },
  {
   "cell_type": "code",
   "execution_count": 55,
   "id": "8faa19d1-f3d1-4db7-9ef8-0032862de1c4",
   "metadata": {},
   "outputs": [
    {
     "data": {
      "text/plain": [
       "<Axes: xlabel='is_paid', ylabel='num_lectures'>"
      ]
     },
     "execution_count": 55,
     "metadata": {},
     "output_type": "execute_result"
    },
    {
     "data": {
      "image/png": "[encoded data removed]",
      "text/plain": [
       "<Figure size 640x480 with 1 Axes>"
      ]
     },
     "metadata": {},
     "output_type": "display_data"
    }
   ],
   "source": [
    "sns.barplot(data=df , x=\"is_paid\", y=\"num_lectures\")"
   ]
  },
  {
   "cell_type": "code",
   "execution_count": 56,
   "id": "cde708b4-2e89-4fd8-bd6a-771de291115f",
   "metadata": {},
   "outputs": [
    {
     "data": {
      "text/plain": [
       "is_paid\n",
       "False    11533.951613\n",
       "True      2421.270077\n",
       "Name: num_subscribers, dtype: float64"
      ]
     },
     "execution_count": 56,
     "metadata": {},
     "output_type": "execute_result"
    }
   ],
   "source": [
    "df.groupby(\"is_paid\")[\"num_subscribers\"].mean()"
   ]
  },
  {
   "cell_type": "code",
   "execution_count": 57,
   "id": "3ecfddc3-b459-42ab-9066-286fb36bb634",
   "metadata": {},
   "outputs": [
    {
     "data": {
      "text/plain": [
       "<Axes: xlabel='is_paid', ylabel='num_subscribers'>"
      ]
     },
     "execution_count": 57,
     "metadata": {},
     "output_type": "execute_result"
    },
    {
     "data": {
      "image/png": "[encoded data removed]",
      "text/plain": [
       "<Figure size 640x480 with 1 Axes>"
      ]
     },
     "metadata": {},
     "output_type": "display_data"
    }
   ],
   "source": [
    "sns.barplot(data=df, x=\"is_paid\" ,y=\"num_subscribers\")"
   ]
  },
  {
   "cell_type": "code",
   "execution_count": 61,
   "id": "9998f3d6-da81-4c4e-9db9-ea2b947121d7",
   "metadata": {},
   "outputs": [
    {
     "data": {
      "text/plain": [
       "2827    All Levels\n",
       "Name: level, dtype: object"
      ]
     },
     "execution_count": 61,
     "metadata": {},
     "output_type": "execute_result"
    }
   ],
   "source": [
    "df[df[\"num_subscribers\"]== df[\"num_subscribers\"].max()][\"level\"]"
   ]
  },
  {
   "cell_type": "code",
   "execution_count": 62,
   "id": "2761b0b9-8629-41f4-8461-51d8457e7712",
   "metadata": {},
   "outputs": [
    {
     "data": {
      "text/plain": [
       "level\n",
       "All Levels            268923\n",
       "Beginner Level        161029\n",
       "Expert Level            5172\n",
       "Intermediate Level     29167\n",
       "Name: num_subscribers, dtype: int64"
      ]
     },
     "execution_count": 62,
     "metadata": {},
     "output_type": "execute_result"
    }
   ],
   "source": [
    "df.groupby(\"level\")[\"num_subscribers\"].max()"
   ]
  },
  {
   "cell_type": "code",
   "execution_count": 64,
   "id": "c53ac63f-11f3-48fb-a745-9202166bd0f3",
   "metadata": {},
   "outputs": [
    {
     "data": {
      "text/plain": [
       "<Axes: xlabel='level', ylabel='num_subscribers'>"
      ]
     },
     "execution_count": 64,
     "metadata": {},
     "output_type": "execute_result"
    },
    {
     "data": {
      "image/png": "[encoded data removed]",
      "text/plain": [
       "<Figure size 640x480 with 1 Axes>"
      ]
     },
     "metadata": {},
     "output_type": "display_data"
    }
   ],
   "source": [
    "sns.barplot(data=df, x=\"level\", y=\"num_subscribers\")"
   ]
  },
  {
   "cell_type": "code",
   "execution_count": 70,
   "id": "b1e5e7dd-0898-4c23-8028-e791455b18fc",
   "metadata": {},
   "outputs": [
    {
     "data": {
      "text/plain": [
       "2827    Learn HTML5 Programming From Scratch\n",
       "Name: course_title, dtype: object"
      ]
     },
     "execution_count": 70,
     "metadata": {},
     "output_type": "execute_result"
    }
   ],
   "source": [
    "df[df[\"num_subscribers\"] == df[\"num_subscribers\"].max()][\"course_title\"]"
   ]
  },
  {
   "cell_type": "code",
   "execution_count": 148,
   "id": "4c73c2dc-4019-46af-9281-c53e0c52eea3",
   "metadata": {},
   "outputs": [
    {
     "data": {
      "text/plain": [
       "Index([2827, 3032, 3230, 2783, 3232, 1896, 2589, 2619, 3289, 3247], dtype='int64')"
      ]
     },
     "execution_count": 148,
     "metadata": {},
     "output_type": "execute_result"
    }
   ],
   "source": [
    "top_10 =df[\"num_subscribers\"].sort_values(ascending=False).head(10).index\n",
    "top_10"
   ]
  },
  {
   "cell_type": "code",
   "execution_count": 149,
   "id": "17a5b179-114f-4a38-bdab-af429809b8fa",
   "metadata": {},
   "outputs": [
    {
     "data": {
      "text/html": [
       "<div>\n",
       "<style scoped>\n",
       "    .dataframe tbody tr th:only-of-type {\n",
       "        vertical-align: middle;\n",
       "    }\n",
       "\n",
       "    .dataframe tbody tr th {\n",
       "        vertical-align: top;\n",
       "    }\n",
       "\n",
       "    .dataframe thead th {\n",
       "        text-align: right;\n",
       "    }\n",
       "</style>\n",
       "<table border=\"1\" class=\"dataframe\">\n",
       "  <thead>\n",
       "    <tr style=\"text-align: right;\">\n",
       "      <th></th>\n",
       "      <th>course_id</th>\n",
       "      <th>course_title</th>\n",
       "      <th>url</th>\n",
       "      <th>is_paid</th>\n",
       "      <th>price</th>\n",
       "      <th>num_subscribers</th>\n",
       "      <th>num_reviews</th>\n",
       "      <th>num_lectures</th>\n",
       "      <th>level</th>\n",
       "      <th>content_duration</th>\n",
       "      <th>published_timestamp</th>\n",
       "      <th>subject</th>\n",
       "    </tr>\n",
       "  </thead>\n",
       "  <tbody>\n",
       "    <tr>\n",
       "      <th>2827</th>\n",
       "      <td>41295</td>\n",
       "      <td>Learn HTML5 Programming From Scratch</td>\n",
       "      <td>https://www.udemy.com/learn-html5-programming-...</td>\n",
       "      <td>False</td>\n",
       "      <td>0</td>\n",
       "      <td>268923</td>\n",
       "      <td>8629</td>\n",
       "      <td>45</td>\n",
       "      <td>All Levels</td>\n",
       "      <td>10.5</td>\n",
       "      <td>2013-02-14 07:03:41+00:00</td>\n",
       "      <td>Web Development</td>\n",
       "    </tr>\n",
       "    <tr>\n",
       "      <th>3032</th>\n",
       "      <td>59014</td>\n",
       "      <td>Coding for Entrepreneurs Basic</td>\n",
       "      <td>https://www.udemy.com/coding-for-entrepreneurs...</td>\n",
       "      <td>False</td>\n",
       "      <td>0</td>\n",
       "      <td>161029</td>\n",
       "      <td>279</td>\n",
       "      <td>27</td>\n",
       "      <td>Beginner Level</td>\n",
       "      <td>3.5</td>\n",
       "      <td>2013-06-09 15:51:55+00:00</td>\n",
       "      <td>Web Development</td>\n",
       "    </tr>\n",
       "    <tr>\n",
       "      <th>3230</th>\n",
       "      <td>625204</td>\n",
       "      <td>The Web Developer Bootcamp</td>\n",
       "      <td>https://www.udemy.com/the-web-developer-bootcamp/</td>\n",
       "      <td>True</td>\n",
       "      <td>200</td>\n",
       "      <td>121584</td>\n",
       "      <td>27445</td>\n",
       "      <td>342</td>\n",
       "      <td>All Levels</td>\n",
       "      <td>43.0</td>\n",
       "      <td>2015-11-02 21:13:27+00:00</td>\n",
       "      <td>Web Development</td>\n",
       "    </tr>\n",
       "    <tr>\n",
       "      <th>2783</th>\n",
       "      <td>173548</td>\n",
       "      <td>Build Your First Website in 1 Week with HTML5 ...</td>\n",
       "      <td>https://www.udemy.com/build-your-first-website...</td>\n",
       "      <td>False</td>\n",
       "      <td>0</td>\n",
       "      <td>120291</td>\n",
       "      <td>5924</td>\n",
       "      <td>30</td>\n",
       "      <td>Beginner Level</td>\n",
       "      <td>3.0</td>\n",
       "      <td>2014-04-08 16:21:30+00:00</td>\n",
       "      <td>Web Development</td>\n",
       "    </tr>\n",
       "    <tr>\n",
       "      <th>3232</th>\n",
       "      <td>764164</td>\n",
       "      <td>The Complete Web Developer Course 2.0</td>\n",
       "      <td>https://www.udemy.com/the-complete-web-develop...</td>\n",
       "      <td>True</td>\n",
       "      <td>200</td>\n",
       "      <td>114512</td>\n",
       "      <td>22412</td>\n",
       "      <td>304</td>\n",
       "      <td>All Levels</td>\n",
       "      <td>30.5</td>\n",
       "      <td>2016-03-08 22:28:36+00:00</td>\n",
       "      <td>Web Development</td>\n",
       "    </tr>\n",
       "    <tr>\n",
       "      <th>1896</th>\n",
       "      <td>19421</td>\n",
       "      <td>Free Beginner Electric Guitar Lessons</td>\n",
       "      <td>https://www.udemy.com/beginner-electric-guitar...</td>\n",
       "      <td>False</td>\n",
       "      <td>0</td>\n",
       "      <td>101154</td>\n",
       "      <td>1042</td>\n",
       "      <td>95</td>\n",
       "      <td>Beginner Level</td>\n",
       "      <td>4.5</td>\n",
       "      <td>2012-06-15 17:00:33+00:00</td>\n",
       "      <td>Musical Instruments</td>\n",
       "    </tr>\n",
       "    <tr>\n",
       "      <th>2589</th>\n",
       "      <td>473160</td>\n",
       "      <td>Web Design for Web Developers: Build Beautiful...</td>\n",
       "      <td>https://www.udemy.com/web-design-secrets/</td>\n",
       "      <td>False</td>\n",
       "      <td>0</td>\n",
       "      <td>98867</td>\n",
       "      <td>6512</td>\n",
       "      <td>20</td>\n",
       "      <td>All Levels</td>\n",
       "      <td>3.0</td>\n",
       "      <td>2015-04-13 18:29:47+00:00</td>\n",
       "      <td>Web Development</td>\n",
       "    </tr>\n",
       "    <tr>\n",
       "      <th>2619</th>\n",
       "      <td>94430</td>\n",
       "      <td>Learn Javascript &amp; JQuery From Scratch</td>\n",
       "      <td>https://www.udemy.com/learn-javascript-jquery-...</td>\n",
       "      <td>True</td>\n",
       "      <td>30</td>\n",
       "      <td>84897</td>\n",
       "      <td>2685</td>\n",
       "      <td>10</td>\n",
       "      <td>All Levels</td>\n",
       "      <td>2.0</td>\n",
       "      <td>2013-10-10 15:19:29+00:00</td>\n",
       "      <td>Web Development</td>\n",
       "    </tr>\n",
       "    <tr>\n",
       "      <th>3289</th>\n",
       "      <td>130064</td>\n",
       "      <td>Practical PHP: Master the Basics and Code Dyna...</td>\n",
       "      <td>https://www.udemy.com/code-dynamic-websites/</td>\n",
       "      <td>False</td>\n",
       "      <td>0</td>\n",
       "      <td>83737</td>\n",
       "      <td>4598</td>\n",
       "      <td>45</td>\n",
       "      <td>All Levels</td>\n",
       "      <td>6.5</td>\n",
       "      <td>2014-07-19 03:02:05+00:00</td>\n",
       "      <td>Web Development</td>\n",
       "    </tr>\n",
       "    <tr>\n",
       "      <th>3247</th>\n",
       "      <td>364426</td>\n",
       "      <td>JavaScript: Understanding the Weird Parts</td>\n",
       "      <td>https://www.udemy.com/understand-javascript/</td>\n",
       "      <td>True</td>\n",
       "      <td>175</td>\n",
       "      <td>79612</td>\n",
       "      <td>16976</td>\n",
       "      <td>85</td>\n",
       "      <td>All Levels</td>\n",
       "      <td>11.5</td>\n",
       "      <td>2015-03-12 23:19:54+00:00</td>\n",
       "      <td>Web Development</td>\n",
       "    </tr>\n",
       "  </tbody>\n",
       "</table>\n",
       "</div>"
      ],
      "text/plain": [
       "      course_id                                       course_title  \\\n",
       "2827      41295               Learn HTML5 Programming From Scratch   \n",
       "3032      59014                     Coding for Entrepreneurs Basic   \n",
       "3230     625204                         The Web Developer Bootcamp   \n",
       "2783     173548  Build Your First Website in 1 Week with HTML5 ...   \n",
       "3232     764164              The Complete Web Developer Course 2.0   \n",
       "1896      19421              Free Beginner Electric Guitar Lessons   \n",
       "2589     473160  Web Design for Web Developers: Build Beautiful...   \n",
       "2619      94430             Learn Javascript & JQuery From Scratch   \n",
       "3289     130064  Practical PHP: Master the Basics and Code Dyna...   \n",
       "3247     364426          JavaScript: Understanding the Weird Parts   \n",
       "\n",
       "                                                    url  is_paid  price  \\\n",
       "2827  https://www.udemy.com/learn-html5-programming-...    False      0   \n",
       "3032  https://www.udemy.com/coding-for-entrepreneurs...    False      0   \n",
       "3230  https://www.udemy.com/the-web-developer-bootcamp/     True    200   \n",
       "2783  https://www.udemy.com/build-your-first-website...    False      0   \n",
       "3232  https://www.udemy.com/the-complete-web-develop...     True    200   \n",
       "1896  https://www.udemy.com/beginner-electric-guitar...    False      0   \n",
       "2589          https://www.udemy.com/web-design-secrets/    False      0   \n",
       "2619  https://www.udemy.com/learn-javascript-jquery-...     True     30   \n",
       "3289       https://www.udemy.com/code-dynamic-websites/    False      0   \n",
       "3247       https://www.udemy.com/understand-javascript/     True    175   \n",
       "\n",
       "      num_subscribers  num_reviews  num_lectures           level  \\\n",
       "2827           268923         8629            45      All Levels   \n",
       "3032           161029          279            27  Beginner Level   \n",
       "3230           121584        27445           342      All Levels   \n",
       "2783           120291         5924            30  Beginner Level   \n",
       "3232           114512        22412           304      All Levels   \n",
       "1896           101154         1042            95  Beginner Level   \n",
       "2589            98867         6512            20      All Levels   \n",
       "2619            84897         2685            10      All Levels   \n",
       "3289            83737         4598            45      All Levels   \n",
       "3247            79612        16976            85      All Levels   \n",
       "\n",
       "      content_duration       published_timestamp              subject  \n",
       "2827              10.5 2013-02-14 07:03:41+00:00      Web Development  \n",
       "3032               3.5 2013-06-09 15:51:55+00:00      Web Development  \n",
       "3230              43.0 2015-11-02 21:13:27+00:00      Web Development  \n",
       "2783               3.0 2014-04-08 16:21:30+00:00      Web Development  \n",
       "3232              30.5 2016-03-08 22:28:36+00:00      Web Development  \n",
       "1896               4.5 2012-06-15 17:00:33+00:00  Musical Instruments  \n",
       "2589               3.0 2015-04-13 18:29:47+00:00      Web Development  \n",
       "2619               2.0 2013-10-10 15:19:29+00:00      Web Development  \n",
       "3289               6.5 2014-07-19 03:02:05+00:00      Web Development  \n",
       "3247              11.5 2015-03-12 23:19:54+00:00      Web Development  "
      ]
     },
     "execution_count": 149,
     "metadata": {},
     "output_type": "execute_result"
    }
   ],
   "source": [
    "my_10 = df.loc[top_10]\n",
    "my_10"
   ]
  },
  {
   "cell_type": "code",
   "execution_count": 150,
   "id": "59c85d41-2b7c-4c1c-b0db-6fa1195a3ad2",
   "metadata": {},
   "outputs": [
    {
     "data": {
      "text/plain": [
       "<Axes: xlabel='num_subscribers', ylabel='course_title'>"
      ]
     },
     "execution_count": 150,
     "metadata": {},
     "output_type": "execute_result"
    },
    {
     "data": {
      "image/png": "[encoded data removed]",
      "text/plain": [
       "<Figure size 1500x500 with 1 Axes>"
      ]
     },
     "metadata": {},
     "output_type": "display_data"
    }
   ],
   "source": [
    "plt.figure(figsize = (15,5))\n",
    "sns.barplot(data=my_10, y=\"course_title\", x= \"num_subscribers\" )"
   ]
  },
  {
   "cell_type": "code",
   "execution_count": 154,
   "id": "2d4e000c-d61e-4474-b500-c7f4ef3610a0",
   "metadata": {},
   "outputs": [
    {
     "data": {
      "text/plain": [
       "course_title\n",
       "The Web Developer Bootcamp    27445\n",
       "Name: num_reviews, dtype: int64"
      ]
     },
     "execution_count": 154,
     "metadata": {},
     "output_type": "execute_result"
    }
   ],
   "source": [
    "df.groupby(\"course_title\")[\"num_reviews\"].max().sort_values(ascending=False).head(1)"
   ]
  },
  {
   "cell_type": "code",
   "execution_count": 157,
   "id": "f5ad2d06-3501-4fbe-b265-3938a4e3835b",
   "metadata": {},
   "outputs": [
    {
     "data": {
      "text/plain": [
       "3230    The Web Developer Bootcamp\n",
       "Name: course_title, dtype: object"
      ]
     },
     "execution_count": 157,
     "metadata": {},
     "output_type": "execute_result"
    }
   ],
   "source": [
    "df[df[\"num_reviews\"] == df[\"num_reviews\"].max()][\"course_title\"]"
   ]
  },
  {
   "cell_type": "code",
   "execution_count": 163,
   "id": "97f1a95e-c783-44e6-a2fe-efbfabb3e8c1",
   "metadata": {},
   "outputs": [
    {
     "data": {
      "text/plain": [
       "3230    Web Development\n",
       "Name: subject, dtype: object"
      ]
     },
     "execution_count": 163,
     "metadata": {},
     "output_type": "execute_result"
    }
   ],
   "source": [
    "df[df[\"num_reviews\"] == df[\"num_reviews\"].max()][\"subject\"]"
   ]
  },
  {
   "cell_type": "code",
   "execution_count": 165,
   "id": "a4f7d6e3-b4f0-40fa-a9a3-885ee6839a63",
   "metadata": {},
   "outputs": [
    {
     "data": {
      "text/plain": [
       "subject\n",
       "Web Development    429500\n",
       "Name: num_reviews, dtype: int64"
      ]
     },
     "execution_count": 165,
     "metadata": {},
     "output_type": "execute_result"
    }
   ],
   "source": [
    "df.groupby(\"subject\")[\"num_reviews\"].sum().sort_values(ascending=False).head(1)"
   ]
  },
  {
   "cell_type": "code",
   "execution_count": 162,
   "id": "fb099579-1133-4851-963f-164f1e9a422b",
   "metadata": {},
   "outputs": [
    {
     "data": {
      "text/plain": [
       "<Axes: xlabel='subject', ylabel='num_reviews'>"
      ]
     },
     "execution_count": 162,
     "metadata": {},
     "output_type": "execute_result"
    },
    {
     "data": {
      "image/png": "[encoded data removed]",
      "text/plain": [
       "<Figure size 1000x300 with 1 Axes>"
      ]
     },
     "metadata": {},
     "output_type": "display_data"
    }
   ],
   "source": [
    "plt.figure(figsize = (10,3))\n",
    "sns.barplot(data=df , y=\"num_reviews\" , x=\"subject\")"
   ]
  },
  {
   "cell_type": "code",
   "execution_count": 170,
   "id": "45b889a1-460f-4edc-bb1e-82f7a2a10bc2",
   "metadata": {},
   "outputs": [
    {
     "data": {
      "text/plain": [
       "<Axes: xlabel='price', ylabel='num_reviews'>"
      ]
     },
     "execution_count": 170,
     "metadata": {},
     "output_type": "execute_result"
    },
    {
     "data": {
      "image/png": "[encoded data removed]",
      "text/plain": [
       "<Figure size 1400x400 with 1 Axes>"
      ]
     },
     "metadata": {},
     "output_type": "display_data"
    }
   ],
   "source": [
    "plt.figure(figsize=(14,4))\n",
    "sns.barplot(data=df, x=\"price\", y=\"num_reviews\")"
   ]
  },
  {
   "cell_type": "code",
   "execution_count": 171,
   "id": "6a7ba713-ef09-4d09-985e-451a03753b72",
   "metadata": {},
   "outputs": [
    {
     "data": {
      "text/plain": [
       "<Axes: xlabel='price', ylabel='num_reviews'>"
      ]
     },
     "execution_count": 171,
     "metadata": {},
     "output_type": "execute_result"
    },
    {
     "data": {
      "image/png": "[encoded data removed]",
      "text/plain": [
       "<Figure size 640x480 with 1 Axes>"
      ]
     },
     "metadata": {},
     "output_type": "display_data"
    }
   ],
   "source": [
    "sns.scatterplot(data=df, x=\"price\", y=\"num_reviews\")"
   ]
  },
  {
   "cell_type": "code",
   "execution_count": 174,
   "id": "16f14a28-a409-4c96-812e-825f484dd469",
   "metadata": {},
   "outputs": [
    {
     "data": {
      "text/plain": [
       "course_id              29\n",
       "course_title           29\n",
       "url                    29\n",
       "is_paid                29\n",
       "price                  29\n",
       "num_subscribers        29\n",
       "num_reviews            29\n",
       "num_lectures           29\n",
       "level                  29\n",
       "content_duration       29\n",
       "published_timestamp    29\n",
       "subject                29\n",
       "dtype: int64"
      ]
     },
     "execution_count": 174,
     "metadata": {},
     "output_type": "execute_result"
    }
   ],
   "source": [
    "df[df[\"course_title\"].str.contains(\"python\", case=False)].count()"
   ]
  },
  {
   "cell_type": "code",
   "execution_count": 195,
   "id": "2556c723-14c4-4bd7-873a-1dfaac042f65",
   "metadata": {},
   "outputs": [],
   "source": [
    "py_co  = df[df[\"course_title\"].str.contains(\"python\", case=False)].sort_values(by = \"num_subscribers\" ,ascending=False).head(10)"
   ]
  },
  {
   "cell_type": "code",
   "execution_count": 190,
   "id": "eca5c091-5eed-4321-ac30-53876a7aa95a",
   "metadata": {},
   "outputs": [],
   "source": [
    "py_com = py_co.groupby(\"course_title\")[\"num_subscribers\"].max().sort_values(ascending=False).head(10)"
   ]
  },
  {
   "cell_type": "code",
   "execution_count": 196,
   "id": "8da76434-bb3f-4a5c-a10c-f02eb74c8b80",
   "metadata": {},
   "outputs": [
    {
     "data": {
      "text/plain": [
       "<Axes: xlabel='num_subscribers', ylabel='course_title'>"
      ]
     },
     "execution_count": 196,
     "metadata": {},
     "output_type": "execute_result"
    },
    {
     "data": {
      "image/png": "[encoded data removed]",
      "text/plain": [
       "<Figure size 640x480 with 1 Axes>"
      ]
     },
     "metadata": {},
     "output_type": "display_data"
    }
   ],
   "source": [
    "sns.barplot(data=py_co, y=\"course_title\",  x= \"num_subscribers\")"
   ]
  },
  {
   "cell_type": "code",
   "execution_count": 198,
   "id": "f220c850-6e76-4970-944e-1d4dd32c9014",
   "metadata": {},
   "outputs": [],
   "source": [
    "my = df[df[\"course_title\"].str.contains(\"python\", case=False)]"
   ]
  },
  {
   "cell_type": "code",
   "execution_count": 199,
   "id": "f9389bf3-cec9-47d9-893c-00e9e3db0d6a",
   "metadata": {},
   "outputs": [
    {
     "data": {
      "text/plain": [
       "Index(['course_id', 'course_title', 'url', 'is_paid', 'price',\n",
       "       'num_subscribers', 'num_reviews', 'num_lectures', 'level',\n",
       "       'content_duration', 'published_timestamp', 'subject'],\n",
       "      dtype='object')"
      ]
     },
     "execution_count": 199,
     "metadata": {},
     "output_type": "execute_result"
    }
   ],
   "source": [
    "df.columns"
   ]
  },
  {
   "cell_type": "code",
   "execution_count": 235,
   "id": "4e0f5a90-e3c8-4703-bef3-0cacd772d734",
   "metadata": {},
   "outputs": [],
   "source": [
    "df[\"year\"] = df[\"published_timestamp\"].dt.year"
   ]
  },
  {
   "cell_type": "code",
   "execution_count": 236,
   "id": "ceb3a3f6-684a-4fbd-8463-19268b916cc5",
   "metadata": {},
   "outputs": [
    {
     "data": {
      "text/html": [
       "<div>\n",
       "<style scoped>\n",
       "    .dataframe tbody tr th:only-of-type {\n",
       "        vertical-align: middle;\n",
       "    }\n",
       "\n",
       "    .dataframe tbody tr th {\n",
       "        vertical-align: top;\n",
       "    }\n",
       "\n",
       "    .dataframe thead th {\n",
       "        text-align: right;\n",
       "    }\n",
       "</style>\n",
       "<table border=\"1\" class=\"dataframe\">\n",
       "  <thead>\n",
       "    <tr style=\"text-align: right;\">\n",
       "      <th></th>\n",
       "      <th>course_id</th>\n",
       "      <th>course_title</th>\n",
       "      <th>url</th>\n",
       "      <th>is_paid</th>\n",
       "      <th>price</th>\n",
       "      <th>num_subscribers</th>\n",
       "      <th>num_reviews</th>\n",
       "      <th>num_lectures</th>\n",
       "      <th>level</th>\n",
       "      <th>content_duration</th>\n",
       "      <th>published_timestamp</th>\n",
       "      <th>subject</th>\n",
       "      <th>year</th>\n",
       "    </tr>\n",
       "  </thead>\n",
       "  <tbody>\n",
       "    <tr>\n",
       "      <th>0</th>\n",
       "      <td>1070968</td>\n",
       "      <td>Ultimate Investment Banking Course</td>\n",
       "      <td>https://www.udemy.com/ultimate-investment-bank...</td>\n",
       "      <td>True</td>\n",
       "      <td>200</td>\n",
       "      <td>2147</td>\n",
       "      <td>23</td>\n",
       "      <td>51</td>\n",
       "      <td>All Levels</td>\n",
       "      <td>1.5</td>\n",
       "      <td>2017-01-18 20:58:58+00:00</td>\n",
       "      <td>Business Finance</td>\n",
       "      <td>2017</td>\n",
       "    </tr>\n",
       "    <tr>\n",
       "      <th>1</th>\n",
       "      <td>1113822</td>\n",
       "      <td>Complete GST Course &amp; Certification - Grow You...</td>\n",
       "      <td>https://www.udemy.com/goods-and-services-tax/</td>\n",
       "      <td>True</td>\n",
       "      <td>75</td>\n",
       "      <td>2792</td>\n",
       "      <td>923</td>\n",
       "      <td>274</td>\n",
       "      <td>All Levels</td>\n",
       "      <td>39.0</td>\n",
       "      <td>2017-03-09 16:34:20+00:00</td>\n",
       "      <td>Business Finance</td>\n",
       "      <td>2017</td>\n",
       "    </tr>\n",
       "    <tr>\n",
       "      <th>2</th>\n",
       "      <td>1006314</td>\n",
       "      <td>Financial Modeling for Business Analysts and C...</td>\n",
       "      <td>https://www.udemy.com/financial-modeling-for-b...</td>\n",
       "      <td>True</td>\n",
       "      <td>45</td>\n",
       "      <td>2174</td>\n",
       "      <td>74</td>\n",
       "      <td>51</td>\n",
       "      <td>Intermediate Level</td>\n",
       "      <td>2.5</td>\n",
       "      <td>2016-12-19 19:26:30+00:00</td>\n",
       "      <td>Business Finance</td>\n",
       "      <td>2016</td>\n",
       "    </tr>\n",
       "  </tbody>\n",
       "</table>\n",
       "</div>"
      ],
      "text/plain": [
       "   course_id                                       course_title  \\\n",
       "0    1070968                 Ultimate Investment Banking Course   \n",
       "1    1113822  Complete GST Course & Certification - Grow You...   \n",
       "2    1006314  Financial Modeling for Business Analysts and C...   \n",
       "\n",
       "                                                 url  is_paid  price  \\\n",
       "0  https://www.udemy.com/ultimate-investment-bank...     True    200   \n",
       "1      https://www.udemy.com/goods-and-services-tax/     True     75   \n",
       "2  https://www.udemy.com/financial-modeling-for-b...     True     45   \n",
       "\n",
       "   num_subscribers  num_reviews  num_lectures               level  \\\n",
       "0             2147           23            51          All Levels   \n",
       "1             2792          923           274          All Levels   \n",
       "2             2174           74            51  Intermediate Level   \n",
       "\n",
       "   content_duration       published_timestamp           subject  year  \n",
       "0               1.5 2017-01-18 20:58:58+00:00  Business Finance  2017  \n",
       "1              39.0 2017-03-09 16:34:20+00:00  Business Finance  2017  \n",
       "2               2.5 2016-12-19 19:26:30+00:00  Business Finance  2016  "
      ]
     },
     "execution_count": 236,
     "metadata": {},
     "output_type": "execute_result"
    }
   ],
   "source": [
    "df.head(3)"
   ]
  },
  {
   "cell_type": "code",
   "execution_count": 237,
   "id": "cc3d3536-89b2-4302-85c2-efd2fea13e1b",
   "metadata": {},
   "outputs": [
    {
     "data": {
      "text/plain": [
       "year\n",
       "2011       5\n",
       "2012      45\n",
       "2013     201\n",
       "2014     490\n",
       "2015    1014\n",
       "2016    1204\n",
       "2017     713\n",
       "Name: course_title, dtype: int64"
      ]
     },
     "execution_count": 237,
     "metadata": {},
     "output_type": "execute_result"
    }
   ],
   "source": [
    "df.groupby(\"year\")[\"course_title\"].count()"
   ]
  },
  {
   "cell_type": "code",
   "execution_count": 238,
   "id": "778263e4-ce87-4ed8-9f91-76268c4ba0ef",
   "metadata": {},
   "outputs": [
    {
     "data": {
      "text/plain": [
       "<Axes: xlabel='year', ylabel='count'>"
      ]
     },
     "execution_count": 238,
     "metadata": {},
     "output_type": "execute_result"
    },
    {
     "data": {
      "image/png": "[encoded data removed]",
      "text/plain": [
       "<Figure size 640x480 with 1 Axes>"
      ]
     },
     "metadata": {},
     "output_type": "display_data"
    }
   ],
   "source": [
    "sns.countplot(data=df , x= \"year\")"
   ]
  },
  {
   "cell_type": "code",
   "execution_count": 243,
   "id": "a6338d35-2c65-4a72-bb1e-21a32c198214",
   "metadata": {},
   "outputs": [
    {
     "data": {
      "text/plain": [
       "year  subject            \n",
       "2011  Web Development          5\n",
       "2012  Web Development         19\n",
       "      Musical Instruments     10\n",
       "      Graphic Design          10\n",
       "      Business Finance         6\n",
       "2013  Business Finance        84\n",
       "      Web Development         55\n",
       "      Musical Instruments     39\n",
       "      Graphic Design          23\n",
       "2014  Business Finance       192\n",
       "      Musical Instruments    120\n",
       "      Web Development        113\n",
       "      Graphic Design          65\n",
       "2015  Business Finance       339\n",
       "      Web Development        336\n",
       "      Musical Instruments    171\n",
       "      Graphic Design         168\n",
       "2016  Web Development        448\n",
       "      Business Finance       347\n",
       "      Musical Instruments    228\n",
       "      Graphic Design         181\n",
       "2017  Web Development        223\n",
       "      Business Finance       223\n",
       "      Graphic Design         155\n",
       "      Musical Instruments    112\n",
       "Name: count, dtype: int64"
      ]
     },
     "execution_count": 243,
     "metadata": {},
     "output_type": "execute_result"
    }
   ],
   "source": [
    "df.groupby(\"year\")[\"subject\"].value_counts()"
   ]
  },
  {
   "cell_type": "code",
   "execution_count": null,
   "id": "a0ae00a7-10f2-40de-a0de-4bc9accf06a5",
   "metadata": {},
   "outputs": [],
   "source": []
  },
  {
   "cell_type": "code",
   "execution_count": null,
   "id": "970398df-2d5a-4601-911e-8800dfb2fe68",
   "metadata": {},
   "outputs": [],
   "source": []
  },
  {
   "cell_type": "code",
   "execution_count": null,
   "id": "66c6e1a4-e015-4cba-a03b-886b56f08464",
   "metadata": {},
   "outputs": [],
   "source": []
  },
  {
   "cell_type": "code",
   "execution_count": null,
   "id": "3413d932-2684-42c0-9c4c-9397c4084723",
   "metadata": {},
   "outputs": [],
   "source": []
  },
  {
   "cell_type": "code",
   "execution_count": null,
   "id": "6de1978a-81ad-425a-85a8-81018407bd6f",
   "metadata": {},
   "outputs": [],
   "source": []
  }
 ],
 "metadata": {
  "kernelspec": {
   "display_name": "Python 3 (ipykernel)",
   "language": "python",
   "name": "python3"
  },
  "language_info": {
   "codemirror_mode": {
    "name": "ipython",
    "version": 3
   },
   "file_extension": ".py",
   "mimetype": "text/x-python",
   "name": "python",
   "nbconvert_exporter": "python",
   "pygments_lexer": "ipython3",
   "version": "3.11.5"
  }
 },
 "nbformat": 4,
 "nbformat_minor": 5
}
